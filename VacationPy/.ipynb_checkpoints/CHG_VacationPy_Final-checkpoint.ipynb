{
 "cells": [
  {
   "cell_type": "code",
   "execution_count": 1,
   "metadata": {},
   "outputs": [],
   "source": [
    "# bring in dependencies\n",
    "import matplotlib.pyplot as plt\n",
    "import pandas as pd\n",
    "import numpy as np\n",
    "import requests\n",
    "import gmaps\n",
    "import os"
   ]
  },
  {
   "cell_type": "code",
   "execution_count": 2,
   "metadata": {},
   "outputs": [],
   "source": [
    "# import API key\n",
    "from api_keys import g_key\n",
    "gmaps.configure(api_key=g_key)"
   ]
  },
  {
   "cell_type": "code",
   "execution_count": 3,
   "metadata": {},
   "outputs": [],
   "source": [
    "# bring in cleaned weather csv\n",
    "wfile = \"cleaned_weather_data.csv\"\n",
    "we = pd.read_csv(wfile)\n",
    "weather = pd.DataFrame(we).drop(columns=['Unnamed: 0'])"
   ]
  },
  {
   "cell_type": "code",
   "execution_count": 4,
   "metadata": {},
   "outputs": [
    {
     "name": "stderr",
     "output_type": "stream",
     "text": [
      "C:\\ProgramData\\Anaconda3\\lib\\site-packages\\ipykernel_launcher.py:5: SettingWithCopyWarning: \n",
      "A value is trying to be set on a copy of a slice from a DataFrame.\n",
      "Try using .loc[row_indexer,col_indexer] = value instead\n",
      "\n",
      "See the caveats in the documentation: https://pandas.pydata.org/pandas-docs/stable/user_guide/indexing.html#returning-a-view-versus-a-copy\n",
      "  \"\"\"\n"
     ]
    }
   ],
   "source": [
    "# filtering down vacation parameters\n",
    "ideal = weather[weather['Temperature (Farenheit)'] <= 82]\n",
    "ideal2 = ideal[ideal['Temperature (Farenheit)'] >= 65]\n",
    "ideal3 = ideal2[ideal2['Humidity %'] <= 30]\n",
    "ideal3['Coordinates'] = ideal3['Latitude'].astype(str) + \", \" + ideal3['Longitude'].astype(str)"
   ]
  },
  {
   "cell_type": "code",
   "execution_count": 5,
   "metadata": {},
   "outputs": [
    {
     "name": "stderr",
     "output_type": "stream",
     "text": [
      "C:\\ProgramData\\Anaconda3\\lib\\site-packages\\ipykernel_launcher.py:2: SettingWithCopyWarning: \n",
      "A value is trying to be set on a copy of a slice from a DataFrame.\n",
      "Try using .loc[row_indexer,col_indexer] = value instead\n",
      "\n",
      "See the caveats in the documentation: https://pandas.pydata.org/pandas-docs/stable/user_guide/indexing.html#returning-a-view-versus-a-copy\n",
      "  \n"
     ]
    }
   ],
   "source": [
    "# set up new columns for table\n",
    "ideal3['Hotel Name'] = \"\""
   ]
  },
  {
   "cell_type": "code",
   "execution_count": 6,
   "metadata": {},
   "outputs": [
    {
     "name": "stdout",
     "output_type": "stream",
     "text": [
      "Searching for The Closest Hotel to Elko...\n",
      "No hotels near Elko\n",
      "Searching for The Closest Hotel to Ubari...\n",
      "No hotels near Ubari\n",
      "Searching for The Closest Hotel to Monterey...\n",
      "No hotels near Monterey\n",
      "Searching for The Closest Hotel to Shīeli...\n",
      "The closest hotel is Hotel Элита\n",
      "Searching for The Closest Hotel to Maple Creek...\n"
     ]
    },
    {
     "name": "stderr",
     "output_type": "stream",
     "text": [
      "C:\\ProgramData\\Anaconda3\\lib\\site-packages\\pandas\\core\\indexing.py:965: SettingWithCopyWarning: \n",
      "A value is trying to be set on a copy of a slice from a DataFrame.\n",
      "Try using .loc[row_indexer,col_indexer] = value instead\n",
      "\n",
      "See the caveats in the documentation: https://pandas.pydata.org/pandas-docs/stable/user_guide/indexing.html#returning-a-view-versus-a-copy\n",
      "  self.obj[item] = s\n"
     ]
    },
    {
     "name": "stdout",
     "output_type": "stream",
     "text": [
      "The closest hotel is Cobble Creek Lodge\n",
      "Searching for The Closest Hotel to Deyang...\n",
      "The closest hotel is Jinghu Hotel\n",
      "Searching for The Closest Hotel to Yulara...\n",
      "The closest hotel is Sails in the Desert\n",
      "Searching for The Closest Hotel to Baykit...\n",
      "The closest hotel is Gostinitsa\n",
      "Searching for The Closest Hotel to King City...\n",
      "The closest hotel is Keefer's Inn\n",
      "Searching for The Closest Hotel to Karratha...\n",
      "The closest hotel is Best Western Plus The Ranges Karratha\n",
      "Searching for The Closest Hotel to South Valley...\n",
      "The closest hotel is Holiday Inn & Suites Albuquerque Airport\n",
      "Searching for The Closest Hotel to Sabha...\n",
      "The closest hotel is فندق المواجيد\n",
      "Searching for The Closest Hotel to Cody...\n",
      "The closest hotel is Chamberlin Inn\n",
      "Searching for The Closest Hotel to Udachny...\n",
      "No hotels near Udachny\n",
      "Searching for The Closest Hotel to Aripuanã...\n",
      "No hotels near Aripuanã\n"
     ]
    }
   ],
   "source": [
    "# Using Google Places API to find the first hotel for each city located within 5000 meters of your coordinates.\n",
    "\n",
    "# find the closest hotel near each city\n",
    "search = 'Hotel'\n",
    "radius = 5000\n",
    "t_type = 'lodging'\n",
    "\n",
    "for index, row in ideal3.iterrows():\n",
    "    \n",
    "    params= {\n",
    "    \"keyword\":search,\n",
    "    \"radius\":radius,\n",
    "    \"type\":t_type,\n",
    "    \"key\":g_key\n",
    "    }\n",
    "    \n",
    "    base_url = 'https://maps.googleapis.com/maps/api/place/nearbysearch/json'\n",
    "\n",
    "    params['location'] = row[9]\n",
    "    \n",
    "    print(f'Searching for The Closest Hotel to {row[0]}...')\n",
    "    response = requests.get(base_url,params=params).json()\n",
    "    \n",
    "    results = response['results']\n",
    "    try:\n",
    "        print(f'The closest hotel is {results[0][\"name\"]}')\n",
    "        \n",
    "        ideal3.loc[index, 'Hotel Name'] = results[0][\"name\"]\n",
    "\n",
    "    except:\n",
    "        print(f'No hotels near {row[0]}')"
   ]
  },
  {
   "cell_type": "code",
   "execution_count": 7,
   "metadata": {},
   "outputs": [
    {
     "data": {
      "text/html": [
       "<div>\n",
       "<style scoped>\n",
       "    .dataframe tbody tr th:only-of-type {\n",
       "        vertical-align: middle;\n",
       "    }\n",
       "\n",
       "    .dataframe tbody tr th {\n",
       "        vertical-align: top;\n",
       "    }\n",
       "\n",
       "    .dataframe thead th {\n",
       "        text-align: right;\n",
       "    }\n",
       "</style>\n",
       "<table border=\"1\" class=\"dataframe\">\n",
       "  <thead>\n",
       "    <tr style=\"text-align: right;\">\n",
       "      <th></th>\n",
       "      <th>City Name</th>\n",
       "      <th>Latitude</th>\n",
       "      <th>Longitude</th>\n",
       "      <th>Temperature (Farenheit)</th>\n",
       "      <th>Humidity %</th>\n",
       "      <th>Cloudiness %</th>\n",
       "      <th>Wind Speed (MPH)</th>\n",
       "      <th>Country</th>\n",
       "      <th>Date</th>\n",
       "      <th>Coordinates</th>\n",
       "      <th>Hotel Name</th>\n",
       "    </tr>\n",
       "  </thead>\n",
       "  <tbody>\n",
       "    <tr>\n",
       "      <th>317</th>\n",
       "      <td>Shīeli</td>\n",
       "      <td>44.17</td>\n",
       "      <td>66.75</td>\n",
       "      <td>75.65</td>\n",
       "      <td>28</td>\n",
       "      <td>0</td>\n",
       "      <td>14.20</td>\n",
       "      <td>KZ</td>\n",
       "      <td>1597727871</td>\n",
       "      <td>44.17, 66.75</td>\n",
       "      <td>Hotel Элита</td>\n",
       "    </tr>\n",
       "    <tr>\n",
       "      <th>318</th>\n",
       "      <td>Maple Creek</td>\n",
       "      <td>49.92</td>\n",
       "      <td>-109.48</td>\n",
       "      <td>72.66</td>\n",
       "      <td>30</td>\n",
       "      <td>10</td>\n",
       "      <td>1.25</td>\n",
       "      <td>CA</td>\n",
       "      <td>1597727871</td>\n",
       "      <td>49.92, -109.48</td>\n",
       "      <td>Cobble Creek Lodge</td>\n",
       "    </tr>\n",
       "    <tr>\n",
       "      <th>330</th>\n",
       "      <td>Deyang</td>\n",
       "      <td>31.13</td>\n",
       "      <td>104.38</td>\n",
       "      <td>77.00</td>\n",
       "      <td>10</td>\n",
       "      <td>100</td>\n",
       "      <td>8.93</td>\n",
       "      <td>CN</td>\n",
       "      <td>1597727872</td>\n",
       "      <td>31.13, 104.38</td>\n",
       "      <td>Jinghu Hotel</td>\n",
       "    </tr>\n",
       "    <tr>\n",
       "      <th>337</th>\n",
       "      <td>Yulara</td>\n",
       "      <td>-25.24</td>\n",
       "      <td>130.99</td>\n",
       "      <td>71.60</td>\n",
       "      <td>14</td>\n",
       "      <td>0</td>\n",
       "      <td>16.11</td>\n",
       "      <td>AU</td>\n",
       "      <td>1597727873</td>\n",
       "      <td>-25.24, 130.99</td>\n",
       "      <td>Sails in the Desert</td>\n",
       "    </tr>\n",
       "    <tr>\n",
       "      <th>353</th>\n",
       "      <td>Baykit</td>\n",
       "      <td>61.67</td>\n",
       "      <td>96.37</td>\n",
       "      <td>72.03</td>\n",
       "      <td>29</td>\n",
       "      <td>40</td>\n",
       "      <td>7.92</td>\n",
       "      <td>RU</td>\n",
       "      <td>1597727876</td>\n",
       "      <td>61.67, 96.37</td>\n",
       "      <td>Gostinitsa</td>\n",
       "    </tr>\n",
       "    <tr>\n",
       "      <th>364</th>\n",
       "      <td>King City</td>\n",
       "      <td>36.21</td>\n",
       "      <td>-121.13</td>\n",
       "      <td>80.98</td>\n",
       "      <td>27</td>\n",
       "      <td>0</td>\n",
       "      <td>6.78</td>\n",
       "      <td>US</td>\n",
       "      <td>1597727878</td>\n",
       "      <td>36.21, -121.13</td>\n",
       "      <td>Keefer's Inn</td>\n",
       "    </tr>\n",
       "    <tr>\n",
       "      <th>395</th>\n",
       "      <td>Karratha</td>\n",
       "      <td>-20.74</td>\n",
       "      <td>116.85</td>\n",
       "      <td>77.11</td>\n",
       "      <td>18</td>\n",
       "      <td>0</td>\n",
       "      <td>2.04</td>\n",
       "      <td>AU</td>\n",
       "      <td>1597727715</td>\n",
       "      <td>-20.74, 116.85</td>\n",
       "      <td>Best Western Plus The Ranges Karratha</td>\n",
       "    </tr>\n",
       "    <tr>\n",
       "      <th>400</th>\n",
       "      <td>South Valley</td>\n",
       "      <td>35.01</td>\n",
       "      <td>-106.68</td>\n",
       "      <td>79.27</td>\n",
       "      <td>26</td>\n",
       "      <td>20</td>\n",
       "      <td>11.41</td>\n",
       "      <td>US</td>\n",
       "      <td>1597727884</td>\n",
       "      <td>35.01, -106.68</td>\n",
       "      <td>Holiday Inn &amp; Suites Albuquerque Airport</td>\n",
       "    </tr>\n",
       "    <tr>\n",
       "      <th>423</th>\n",
       "      <td>Sabha</td>\n",
       "      <td>27.04</td>\n",
       "      <td>14.43</td>\n",
       "      <td>79.48</td>\n",
       "      <td>29</td>\n",
       "      <td>0</td>\n",
       "      <td>8.08</td>\n",
       "      <td>LY</td>\n",
       "      <td>1597727887</td>\n",
       "      <td>27.04, 14.43</td>\n",
       "      <td>فندق المواجيد</td>\n",
       "    </tr>\n",
       "    <tr>\n",
       "      <th>482</th>\n",
       "      <td>Cody</td>\n",
       "      <td>44.53</td>\n",
       "      <td>-109.06</td>\n",
       "      <td>78.48</td>\n",
       "      <td>27</td>\n",
       "      <td>1</td>\n",
       "      <td>8.05</td>\n",
       "      <td>US</td>\n",
       "      <td>1597727896</td>\n",
       "      <td>44.53, -109.06</td>\n",
       "      <td>Chamberlin Inn</td>\n",
       "    </tr>\n",
       "  </tbody>\n",
       "</table>\n",
       "</div>"
      ],
      "text/plain": [
       "        City Name  Latitude  Longitude  Temperature (Farenheit)  Humidity %  \\\n",
       "317        Shīeli     44.17      66.75                    75.65          28   \n",
       "318   Maple Creek     49.92    -109.48                    72.66          30   \n",
       "330        Deyang     31.13     104.38                    77.00          10   \n",
       "337        Yulara    -25.24     130.99                    71.60          14   \n",
       "353        Baykit     61.67      96.37                    72.03          29   \n",
       "364     King City     36.21    -121.13                    80.98          27   \n",
       "395      Karratha    -20.74     116.85                    77.11          18   \n",
       "400  South Valley     35.01    -106.68                    79.27          26   \n",
       "423         Sabha     27.04      14.43                    79.48          29   \n",
       "482          Cody     44.53    -109.06                    78.48          27   \n",
       "\n",
       "     Cloudiness %  Wind Speed (MPH) Country        Date     Coordinates  \\\n",
       "317             0             14.20      KZ  1597727871    44.17, 66.75   \n",
       "318            10              1.25      CA  1597727871  49.92, -109.48   \n",
       "330           100              8.93      CN  1597727872   31.13, 104.38   \n",
       "337             0             16.11      AU  1597727873  -25.24, 130.99   \n",
       "353            40              7.92      RU  1597727876    61.67, 96.37   \n",
       "364             0              6.78      US  1597727878  36.21, -121.13   \n",
       "395             0              2.04      AU  1597727715  -20.74, 116.85   \n",
       "400            20             11.41      US  1597727884  35.01, -106.68   \n",
       "423             0              8.08      LY  1597727887    27.04, 14.43   \n",
       "482             1              8.05      US  1597727896  44.53, -109.06   \n",
       "\n",
       "                                   Hotel Name  \n",
       "317                               Hotel Элита  \n",
       "318                        Cobble Creek Lodge  \n",
       "330                              Jinghu Hotel  \n",
       "337                       Sails in the Desert  \n",
       "353                                Gostinitsa  \n",
       "364                              Keefer's Inn  \n",
       "395     Best Western Plus The Ranges Karratha  \n",
       "400  Holiday Inn & Suites Albuquerque Airport  \n",
       "423                             فندق المواجيد  \n",
       "482                            Chamberlin Inn  "
      ]
     },
     "execution_count": 7,
     "metadata": {},
     "output_type": "execute_result"
    }
   ],
   "source": [
    "final_data = ideal3[ideal3['Hotel Name'] != \"\"]\n",
    "final_data"
   ]
  },
  {
   "cell_type": "code",
   "execution_count": 8,
   "metadata": {},
   "outputs": [],
   "source": [
    "# Plot the hotels on top of the humidity heatmap with each pin containing the Hotel Name, City, and Country.\n",
    "\n",
    "humidity = final_data['Humidity %'].astype(float)\n",
    "max_hum = humidity.max()\n",
    "locations = final_data[['Latitude','Longitude']]\n"
   ]
  },
  {
   "cell_type": "code",
   "execution_count": 9,
   "metadata": {},
   "outputs": [
    {
     "data": {
      "application/vnd.jupyter.widget-view+json": {
       "model_id": "b01edc2d6099482c9e498736c7d9fd1a",
       "version_major": 2,
       "version_minor": 0
      },
      "text/plain": [
       "Figure(layout=FigureLayout(height='420px'))"
      ]
     },
     "metadata": {},
     "output_type": "display_data"
    }
   ],
   "source": [
    "fig = gmaps.figure()\n",
    "heat_layer = gmaps.heatmap_layer(locations, weights=humidity,dissipating=False, max_intensity=max_hum)\n",
    "fig.add_layer(heat_layer)\n",
    "fig"
   ]
  },
  {
   "cell_type": "code",
   "execution_count": 10,
   "metadata": {},
   "outputs": [],
   "source": [
    "# NOTE: Do not change any of the code in this cell\n",
    "\n",
    "# Using the template add the hotel marks to the heatmap\n",
    "info_box_template = \"\"\"\n",
    "<dl>\n",
    "<dt>Name</dt><dd>{Hotel Name}</dd>\n",
    "<dt>City</dt><dd>{City Name}</dd>\n",
    "<dt>Country</dt><dd>{Country}</dd>\n",
    "</dl>\n",
    "\"\"\"\n",
    "# Store the DataFrame Row\n",
    "# NOTE: be sure to update with your DataFrame name\n",
    "hotel_info = [info_box_template.format(**row) for index, row in final_data.iterrows()]\n",
    "locations = final_data[[\"Latitude\", \"Longitude\"]]"
   ]
  },
  {
   "cell_type": "code",
   "execution_count": 11,
   "metadata": {},
   "outputs": [
    {
     "data": {
      "application/vnd.jupyter.widget-view+json": {
       "model_id": "b01edc2d6099482c9e498736c7d9fd1a",
       "version_major": 2,
       "version_minor": 0
      },
      "text/plain": [
       "Figure(layout=FigureLayout(height='420px'))"
      ]
     },
     "metadata": {},
     "output_type": "display_data"
    }
   ],
   "source": [
    "markers = gmaps.marker_layer(locations)\n",
    "fig.add_layer(markers)\n",
    "fig"
   ]
  },
  {
   "cell_type": "code",
   "execution_count": null,
   "metadata": {},
   "outputs": [],
   "source": []
  }
 ],
 "metadata": {
  "kernelspec": {
   "display_name": "Python 3",
   "language": "python",
   "name": "python3"
  },
  "language_info": {
   "codemirror_mode": {
    "name": "ipython",
    "version": 3
   },
   "file_extension": ".py",
   "mimetype": "text/x-python",
   "name": "python",
   "nbconvert_exporter": "python",
   "pygments_lexer": "ipython3",
   "version": "3.7.6"
  }
 },
 "nbformat": 4,
 "nbformat_minor": 4
}
